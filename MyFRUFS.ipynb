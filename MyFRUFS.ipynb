{
 "cells": [
  {
   "cell_type": "code",
   "execution_count": 1,
   "id": "c0c215cb-041f-4ee8-8ffb-d0cff49bf2b8",
   "metadata": {},
   "outputs": [],
   "source": [
    "import numpy as np\n",
    "import pandas as pd\n",
    "import matplotlib.pyplot as plt\n",
    "import seaborn as sns\n",
    "from sklearn.datasets import fetch_openml\n",
    "from sklearn.linear_model import LinearRegression\n",
    "from sklearn.cluster import KMeans\n",
    "from sklearn.metrics.cluster import normalized_mutual_info_score\n",
    "from tqdm.notebook import tqdm\n",
    "import lightgbm as lgb\n",
    "\n",
    "%matplotlib inline"
   ]
  },
  {
   "cell_type": "markdown",
   "id": "884a092a-ef71-4bb4-ad71-8c93c0d7a619",
   "metadata": {},
   "source": [
    "## Implementation FRUFS(Feature Relevance based Unsupervised Feature Selection)  \n",
    "Article: https://www.deepwizai.com/projects/how-to-perform-unsupervised-feature-selection-using-supervised-algorithms  \n",
    "\n",
    "**重み行列について**  \n",
    "- 行: i番目の特徴量を表すために他の特徴量にかける重み．  \n",
    "- 列: i列目以外の特徴量を表すためにi番目の特徴量にかける重み．  "
   ]
  },
  {
   "cell_type": "code",
   "execution_count": 3,
   "id": "a29ab388-9876-4eb3-bc1c-c1eb61181969",
   "metadata": {},
   "outputs": [],
   "source": [
    "class FRUFS:\n",
    "    def __init__(self, df: pd.DataFrame, method: str = \"linear\"):\n",
    "        self.df = df\n",
    "        self.W = np.zeros((self.df.shape[1], self.df.shape[1]))\n",
    "        self.W_average = np.zeros(self.df.shape[1])\n",
    "        self.method = method\n",
    "\n",
    "        if self.method == \"linear\":\n",
    "            self.model_func = LinearRegression\n",
    "        elif self.method == \"lgb\":\n",
    "            self.model_func = lgb.LGBMRegressor\n",
    "        else:\n",
    "            raise NameError(\"'method' variable is 'linear' or 'lgb'\")\n",
    "\n",
    "    # 他の特徴量を計算するための重み/重要度を計算する\n",
    "    def calc_coef(self):\n",
    "        X = self.df.values\n",
    "        for i in tqdm(range(X.shape[1]), total=X.shape[1],\n",
    "                      desc=\"calculate coefficient/importances\"):\n",
    "            # 重み/重要度を格納するインデックスの指定\n",
    "            indices = np.concatenate((np.arange(i).reshape(-1, 1),\n",
    "                                      np.arange(i+1, X.shape[1]).reshape(-1, 1)))\n",
    "\n",
    "            train_X = np.hstack((X[:, :i], X[:, i+1:]))  # i番目の特徴量を外す\n",
    "            train_y = X[:, i]  # i番目の特徴量\n",
    "\n",
    "            # i番目の特徴量を他の特徴量で表現するための学習\n",
    "            model = self.model_func()\n",
    "            model.fit(train_X, train_y)\n",
    "\n",
    "            # モデルの重み/重要度をWに格納する\n",
    "            if self.method == \"linear\":\n",
    "                coef = model.coef_\n",
    "                coef = np.absolute(coef)\n",
    "            elif self.method == \"lgb\":\n",
    "                coef = model.feature_importances_\n",
    "\n",
    "            self.W[i, indices] = coef.reshape(-1, 1)\n",
    "\n",
    "        # 各特徴量が他の特徴量を表すときの重み/重要度の平均を計算\n",
    "        self.W_average = self.W.mean(axis=0)\n",
    "        self.average_coef_df = pd.DataFrame({\"columns\": self.df.columns.values,\n",
    "                                             \"importances\": self.W_average})\n",
    "\n",
    "    # 各特徴量の重要度が高い順にプロット\n",
    "    def plot_coef(self):\n",
    "        if not hasattr(self, \"average_coef_df\"):\n",
    "            raise Exception(\"Please Execute 'calc_coef' function before\")\n",
    "\n",
    "        # 重要度でデータをソートする\n",
    "        average_coef_df = self.average_coef_df.sort_values(\"importances\")\n",
    "\n",
    "        # 棒グラフとして描画\n",
    "        plt.figure(figsize=(20, 10))\n",
    "        plt.barh(average_coef_df[\"columns\"], average_coef_df[\"importances\"])\n",
    "        plt.title(\"Feature Importances Plot\")\n",
    "        plt.grid(True)\n",
    "        plt.show()\n",
    "\n",
    "    # 重要度のデータを取得する関数\n",
    "    def get_coef(self, average: bool = False):\n",
    "        if average:\n",
    "            return self.average_coef_df\n",
    "        else:\n",
    "            return self.W"
   ]
  },
  {
   "cell_type": "code",
   "execution_count": 4,
   "id": "cf89fcf1-fae7-48d9-a8eb-63d1ccd9f309",
   "metadata": {},
   "outputs": [
    {
     "name": "stdout",
     "output_type": "stream",
     "text": [
      "Train Data Shape: (5000, 784)\n",
      "Test Data Shape: (5000, 784)\n"
     ]
    }
   ],
   "source": [
    "method = \"lgb\"\n",
    "\n",
    "# A utility variable to define the number of classes\n",
    "num_classes = 10\n",
    "# A utility variable that defines the number of sub-samples to pick from each class\n",
    "subset_samples = 500\n",
    "\n",
    "# MNIST library allows easy loading of MNIST data\n",
    "X, y = fetch_openml(\"mnist_784\", version=1, return_X_y=True)\n",
    "X_train, Y_train = X[:60000], y[:60000]\n",
    "X_test, Y_test = X[60000:], y[60000:]\n",
    "\n",
    "# Converting to numpy matrix\n",
    "X_train, Y_train = np.asarray(X_train).astype(int), np.asarray(Y_train).astype(int)\n",
    "X_test, Y_test = np.asarray(X_test).astype(int), np.asarray(Y_test).astype(int)\n",
    "\n",
    "# Take a stratified random subset of samples from each class\n",
    "inds = list()\n",
    "for i in range(num_classes):\n",
    "    curr_inds = np.where(Y_train == i)[0]\n",
    "    inds += list(curr_inds[np.random.randint(0, len(curr_inds), size=subset_samples)])\n",
    "\n",
    "# Use the indices generated above to take a subset of the training data\n",
    "X_train = X_train[inds]\n",
    "Y_train = Y_train[inds]\n",
    "\n",
    "# Take a stratified random subset of samples from each class\n",
    "inds = list()\n",
    "for i in range(num_classes):\n",
    "    curr_inds = np.where(Y_test == i)[0]\n",
    "    inds += list(curr_inds[np.random.randint(0, len(curr_inds), size=subset_samples)])\n",
    "\n",
    "# Use the indices generated above to take a subset of the test data\n",
    "X_test = X_test[inds]\n",
    "Y_test = Y_test[inds]\n",
    "\n",
    "# Check out the data shapes\n",
    "print(\"Train Data Shape:\", X_train.shape)\n",
    "print(\"Test Data Shape:\", X_test.shape)"
   ]
  },
  {
   "cell_type": "code",
   "execution_count": 5,
   "id": "8834049c-be06-4af5-bcf1-72462df37c27",
   "metadata": {},
   "outputs": [
    {
     "name": "stdout",
     "output_type": "stream",
     "text": [
      "Baseline NMI Score: 0.4973729379536027\n"
     ]
    }
   ],
   "source": [
    "# We are going to use the K-Means algorithm\n",
    "model_kmeans = KMeans(n_clusters=num_classes, random_state=27)\n",
    "model_kmeans.fit(X_train)\n",
    "preds = model_kmeans.predict(X_test)\n",
    "\n",
    "# We are going to use the NMI metric to measure the quality/performance of the clustering \n",
    "baseline_score = normalized_mutual_info_score(Y_test, preds)\n",
    "print(\"Baseline NMI Score:\", baseline_score)"
   ]
  },
  {
   "cell_type": "code",
   "execution_count": 6,
   "id": "6e1fd978-3b26-45a9-b822-b5dfa5bf44ec",
   "metadata": {},
   "outputs": [
    {
     "data": {
      "application/vnd.jupyter.widget-view+json": {
       "model_id": "cf18e74083ca46bb9535a4e17a7982a7",
       "version_major": 2,
       "version_minor": 0
      },
      "text/plain": [
       "calculate coefficient/importances:   0%|          | 0/784 [00:00<?, ?it/s]"
      ]
     },
     "metadata": {},
     "output_type": "display_data"
    },
    {
     "data": {
      "text/html": [
       "<div>\n",
       "<style scoped>\n",
       "    .dataframe tbody tr th:only-of-type {\n",
       "        vertical-align: middle;\n",
       "    }\n",
       "\n",
       "    .dataframe tbody tr th {\n",
       "        vertical-align: top;\n",
       "    }\n",
       "\n",
       "    .dataframe thead th {\n",
       "        text-align: right;\n",
       "    }\n",
       "</style>\n",
       "<table border=\"1\" class=\"dataframe\">\n",
       "  <thead>\n",
       "    <tr style=\"text-align: right;\">\n",
       "      <th></th>\n",
       "      <th>columns</th>\n",
       "      <th>importances</th>\n",
       "    </tr>\n",
       "  </thead>\n",
       "  <tbody>\n",
       "    <tr>\n",
       "      <th>0</th>\n",
       "      <td>1</td>\n",
       "      <td>0.0</td>\n",
       "    </tr>\n",
       "    <tr>\n",
       "      <th>1</th>\n",
       "      <td>2</td>\n",
       "      <td>0.0</td>\n",
       "    </tr>\n",
       "    <tr>\n",
       "      <th>2</th>\n",
       "      <td>3</td>\n",
       "      <td>0.0</td>\n",
       "    </tr>\n",
       "    <tr>\n",
       "      <th>3</th>\n",
       "      <td>4</td>\n",
       "      <td>0.0</td>\n",
       "    </tr>\n",
       "    <tr>\n",
       "      <th>4</th>\n",
       "      <td>5</td>\n",
       "      <td>0.0</td>\n",
       "    </tr>\n",
       "  </tbody>\n",
       "</table>\n",
       "</div>"
      ],
      "text/plain": [
       "   columns  importances\n",
       "0        1          0.0\n",
       "1        2          0.0\n",
       "2        3          0.0\n",
       "3        4          0.0\n",
       "4        5          0.0"
      ]
     },
     "metadata": {},
     "output_type": "display_data"
    }
   ],
   "source": [
    "X_train_df = pd.DataFrame(X_train, columns=[i+1 for i in range(784)])\n",
    "mnist_FRUFS = FRUFS(X_train_df, method=method)\n",
    "mnist_FRUFS.calc_coef()\n",
    "coef_df = mnist_FRUFS.get_coef(average=True)\n",
    "display(coef_df.head())"
   ]
  },
  {
   "cell_type": "code",
   "execution_count": 7,
   "id": "e52b2c3c-a3e5-4f42-9415-8d98c02a476a",
   "metadata": {
    "tags": []
   },
   "outputs": [
    {
     "data": {
      "application/vnd.jupyter.widget-view+json": {
       "model_id": "1af843cb919a4df7b82d0c42f6b53d15",
       "version_major": 2,
       "version_minor": 0
      },
      "text/plain": [
       "  0%|          | 0/39 [00:00<?, ?it/s]"
      ]
     },
     "metadata": {},
     "output_type": "display_data"
    },
    {
     "name": "stdout",
     "output_type": "stream",
     "text": [
      "Feature Selection NMI Score: 0.5335092351371437 \t Number of features used: 320\n"
     ]
    }
   ],
   "source": [
    "feat_imps = coef_df[\"importances\"].values\n",
    "\n",
    "# We will use this variable to save NMI scores\n",
    "scores_nmi, max_score = list(), 0\n",
    "# This variable is to evaluate the quality of clustering\n",
    "t_entropy = list()\n",
    "# Number of features to consider at a time\n",
    "feats_wind = 20\n",
    "# Sort the features according to their importance score in descending order\n",
    "inds = np.argsort(np.absolute(feat_imps))[::-1]\n",
    "\n",
    "for i in tqdm(range(feats_wind, X_train.shape[1], feats_wind)):\n",
    "    x_train, x_test = X_train[:, inds[:i]], X_test[:, inds[:i]]\n",
    "#     x_test_d = X_test_d[:,inds[:i]]\n",
    "    # Run K-Means for current set of top features\n",
    "    model_kmeans = KMeans(n_clusters=num_classes, random_state=27)\n",
    "    model_kmeans.fit(x_train)\n",
    "    preds = model_kmeans.predict(x_test)\n",
    "    # Save the scores\n",
    "    scores_nmi.append(normalized_mutual_info_score(Y_test, preds))\n",
    "\n",
    "    # Save the maximum Score and corresponding number of features\n",
    "    if scores_nmi[-1] > max_score:\n",
    "        max_score = scores_nmi[-1]\n",
    "        max_feats = i\n",
    "\n",
    "print(\"Feature Selection NMI Score:\", max_score, \"\\t Number of features used:\", max_feats)"
   ]
  },
  {
   "cell_type": "code",
   "execution_count": 8,
   "id": "49db297d-31ef-461b-81bd-9434a969424b",
   "metadata": {},
   "outputs": [
    {
     "data": {
      "image/png": "[encoded data removed]",
      "text/plain": [
       "<Figure size 432x288 with 1 Axes>"
      ]
     },
     "metadata": {
      "needs_background": "light"
     },
     "output_type": "display_data"
    }
   ],
   "source": [
    "# Plot out the baseline score and all scores due to addition of top features\n",
    "sns.lineplot(x=np.arange(feats_wind, X_train.shape[1], feats_wind), y=[baseline_score for i in range(feats_wind, X_train.shape[1], feats_wind)], label=\"baseline\")\n",
    "sns.lineplot(x=np.arange(feats_wind, X_train.shape[1], feats_wind), y=scores_nmi, label=\"top_k_feats\")\n",
    "sns.despine()\n",
    "plt.xlabel(\"Features\")\n",
    "plt.ylabel(\"NMI score\")\n",
    "\n",
    "plt.savefig(f\"{method}_score.png\")\n",
    "plt.show()"
   ]
  },
  {
   "cell_type": "code",
   "execution_count": null,
   "id": "65654e94-5406-4a99-9c20-8aecc16f532b",
   "metadata": {},
   "outputs": [],
   "source": []
  }
 ],
 "metadata": {
  "kernelspec": {
   "display_name": "Python 3 (ipykernel)",
   "language": "python",
   "name": "python3"
  },
  "language_info": {
   "codemirror_mode": {
    "name": "ipython",
    "version": 3
   },
   "file_extension": ".py",
   "mimetype": "text/x-python",
   "name": "python",
   "nbconvert_exporter": "python",
   "pygments_lexer": "ipython3",
   "version": "3.8.10"
  }
 },
 "nbformat": 4,
 "nbformat_minor": 5
}
